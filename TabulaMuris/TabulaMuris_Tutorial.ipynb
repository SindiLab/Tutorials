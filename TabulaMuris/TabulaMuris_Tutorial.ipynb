{
 "cells": [
  {
   "cell_type": "markdown",
   "metadata": {},
   "source": [
    "# Tabula Muris Data: From Raw Data to Analysis\n",
    "\n",
    "In this notebook, we will go over how to start with the Chan-Zuckerberg's Tabula Muris data from start to finish."
   ]
  },
  {
   "cell_type": "markdown",
   "metadata": {},
   "source": [
    "## 1. Downloading Data\n",
    "\n",
    "The data is public and it can be freely accessed through AWS or the CZ github repo. To download, here we provide two options:"
   ]
  },
  {
   "cell_type": "markdown",
   "metadata": {},
   "source": [
    "### Option 1 Direct Download from the Chan-Zuckerberg Repo:\n",
    "\n",
    "Here we will `wget` the data from CZ rep:"
   ]
  },
  {
   "cell_type": "code",
   "execution_count": 4,
   "metadata": {},
   "outputs": [
    {
     "name": "stdout",
     "output_type": "stream",
     "text": [
      "--2020-10-21 18:26:26--  https://github.com/chanzuckerberg/scRNA-python-workshop/raw/master/content/data.zip\n",
      "Resolving github.com (github.com)... 140.82.114.4\n",
      "Connecting to github.com (github.com)|140.82.114.4|:443... connected.\n",
      "HTTP request sent, awaiting response... 302 Found\n",
      "Location: https://raw.githubusercontent.com/chanzuckerberg/scRNA-python-workshop/master/content/data.zip [following]\n",
      "--2020-10-21 18:26:26--  https://raw.githubusercontent.com/chanzuckerberg/scRNA-python-workshop/master/content/data.zip\n",
      "Resolving raw.githubusercontent.com (raw.githubusercontent.com)... 151.101.196.133\n",
      "Connecting to raw.githubusercontent.com (raw.githubusercontent.com)|151.101.196.133|:443... connected.\n",
      "HTTP request sent, awaiting response... 200 OK\n",
      "Length: 74104660 (71M) [application/zip]\n",
      "Saving to: ‘data.zip’\n",
      "\n",
      "data.zip            100%[===================>]  70.67M   226MB/s    in 0.3s    \n",
      "\n",
      "2020-10-21 18:26:27 (226 MB/s) - ‘data.zip’ saved [74104660/74104660]\n",
      "\n"
     ]
    }
   ],
   "source": [
    "!wget https://github.com/chanzuckerberg/scRNA-python-workshop/raw/master/content/data.zip"
   ]
  },
  {
   "cell_type": "code",
   "execution_count": 5,
   "metadata": {},
   "outputs": [
    {
     "name": "stdout",
     "output_type": "stream",
     "text": [
      "Archive:  data.zip\n",
      "  inflating: brain_metadata.csv      \n",
      "  inflating: glioblastoma_normalized.h5ad  \n",
      "  inflating: glioblastoma_raw.h5ad   \n",
      "  inflating: brain_counts.csv        \n",
      "  inflating: pbmc3k.h5ad             \n"
     ]
    }
   ],
   "source": [
    "!unzip data.zip"
   ]
  },
  {
   "cell_type": "markdown",
   "metadata": {},
   "source": [
    "Note: From here on, we will be storing the data in a folder called `TM_Data` "
   ]
  },
  {
   "cell_type": "markdown",
   "metadata": {},
   "source": [
    "### Option 2: Download using AWS (recommended)\n",
    "\n",
    "To make things much nicer, we will first install AWS CLI (command line interface) and then download the data. \n",
    "\n",
    "N.b: Having the AWS CLI installed on your machine/cluster will come in very handy!"
   ]
  },
  {
   "cell_type": "code",
   "execution_count": null,
   "metadata": {},
   "outputs": [],
   "source": [
    "## get the CLI Zip\n",
    "!curl \"https://awscli.amazonaws.com/awscli-exe-linux-x86_64.zip\" -o \"awscliv2.zip\""
   ]
  },
  {
   "cell_type": "markdown",
   "metadata": {},
   "source": [
    "Now unzip the file:"
   ]
  },
  {
   "cell_type": "code",
   "execution_count": 7,
   "metadata": {},
   "outputs": [
    {
     "name": "stdout",
     "output_type": "stream",
     "text": [
      "Found preexisting AWS CLI installation: /usr/local/aws-cli/v2/current. Please rerun install script with --update flag.\n"
     ]
    }
   ],
   "source": [
    "# Now unzip and install CLI\n",
    "\n",
    "### I HAVE AWS INSTALLED SO I GET THE FOLLOWING MESSAGE, BUT YOU SHOULD EXCEPT FULL INSTALLATION\n",
    "!unzip awscliv2.zip\n",
    "!sudo ./aws/install"
   ]
  },
  {
   "cell_type": "markdown",
   "metadata": {},
   "source": [
    "Now if you don't have AWS credentials that's fine, we can do a an unauthenticated request (with no sign-in flag) since the data is available publicly"
   ]
  },
  {
   "cell_type": "code",
   "execution_count": 9,
   "metadata": {},
   "outputs": [
    {
     "name": "stdout",
     "output_type": "stream",
     "text": [
      "                           PRE 10x_bam_files/\n",
      "                           PRE facs_bam_files/\n",
      "2018-10-08 18:38:40  147226550 TM_droplet_mat.csv.gz\n",
      "2018-10-08 18:38:45  247481595 TM_droplet_mat.h5ad\n",
      "2018-10-08 18:38:52  245224669 TM_droplet_mat.rds\n",
      "2018-10-08 18:39:00    6120187 TM_droplet_metadata.csv\n",
      "2018-10-08 18:39:00  318146414 TM_facs_mat.csv.gz\n",
      "2018-10-08 18:39:11  487706533 TM_facs_mat.h5ad\n",
      "2018-10-08 18:39:11  520953990 TM_facs_mat.rds\n",
      "2018-10-08 18:39:25    5691123 TM_facs_metadata.csv\n"
     ]
    }
   ],
   "source": [
    "# list the files in the directory\n",
    "!aws s3 ls s3://czb-tabula-muris/ --no-sign-request"
   ]
  },
  {
   "cell_type": "code",
   "execution_count": 6,
   "metadata": {},
   "outputs": [
    {
     "name": "stdout",
     "output_type": "stream",
     "text": [
      "download: s3://czbiohub-tabula-muris/TM_facs_metadata.csv to TabulaMurisData/TM_facs_metadata.csv\n"
     ]
    }
   ],
   "source": [
    "# here we want to download the files that we have access to, so for example let us download this CSV file\n",
    "\n",
    "!aws s3 cp s3://czbiohub-tabula-muris/TM_facs_metadata.csv ./TM_Data --no-sign-request"
   ]
  },
  {
   "cell_type": "markdown",
   "metadata": {},
   "source": [
    "## Read in the Data:\n",
    "\n",
    "Now you can use your favorite way of reading in data to python. In this NB, we will be using Pandas due to the convenience and popularity"
   ]
  },
  {
   "cell_type": "code",
   "execution_count": 8,
   "metadata": {},
   "outputs": [],
   "source": [
    "import pandas as pd\n",
    "\n",
    "brain_count = pd.read_csv(\"./TM_Data/brain_counts.csv\", sep = ',', header = \"infer\", index_col = 0, error_bad_lines = True)"
   ]
  },
  {
   "cell_type": "markdown",
   "metadata": {},
   "source": [
    "So at this point, we have read in the data which consists of ***unique cells*** (in rows) and ***genes*** (in columns). Let's find how many cells and how many genes we have in the data:"
   ]
  },
  {
   "cell_type": "code",
   "execution_count": 9,
   "metadata": {},
   "outputs": [
    {
     "name": "stdout",
     "output_type": "stream",
     "text": [
      "Number of Unique Cells: 3401\n",
      "Number of Genes: 23433\n"
     ]
    }
   ],
   "source": [
    "print(f\"Number of Unique Cells: {len(brain_count)}\")\n",
    "print(f\"Number of Genes: {len(brain_count.columns)}\")"
   ]
  },
  {
   "cell_type": "markdown",
   "metadata": {},
   "source": [
    "### Getting Information from MetaData\n",
    "\n",
    "Since we have a meta data associated with the brain cells, let us use it to see what information we can exctract from them"
   ]
  },
  {
   "cell_type": "code",
   "execution_count": 12,
   "metadata": {},
   "outputs": [],
   "source": [
    "brain_meta = pd.read_csv(\"./TM_Data/brain_metadata.csv\", sep = ',', header = \"infer\", index_col = 0, error_bad_lines = True)"
   ]
  },
  {
   "cell_type": "code",
   "execution_count": 13,
   "metadata": {},
   "outputs": [
    {
     "data": {
      "text/html": [
       "<div>\n",
       "<style scoped>\n",
       "    .dataframe tbody tr th:only-of-type {\n",
       "        vertical-align: middle;\n",
       "    }\n",
       "\n",
       "    .dataframe tbody tr th {\n",
       "        vertical-align: top;\n",
       "    }\n",
       "\n",
       "    .dataframe thead th {\n",
       "        text-align: right;\n",
       "    }\n",
       "</style>\n",
       "<table border=\"1\" class=\"dataframe\">\n",
       "  <thead>\n",
       "    <tr style=\"text-align: right;\">\n",
       "      <th></th>\n",
       "      <th>cell_ontology_class</th>\n",
       "      <th>subtissue</th>\n",
       "      <th>mouse.sex</th>\n",
       "      <th>mouse.id</th>\n",
       "      <th>plate.barcode</th>\n",
       "    </tr>\n",
       "    <tr>\n",
       "      <th>cell</th>\n",
       "      <th></th>\n",
       "      <th></th>\n",
       "      <th></th>\n",
       "      <th></th>\n",
       "      <th></th>\n",
       "    </tr>\n",
       "  </thead>\n",
       "  <tbody>\n",
       "    <tr>\n",
       "      <th>A1.B003290.3_38_F.1.1</th>\n",
       "      <td>astrocyte</td>\n",
       "      <td>Striatum</td>\n",
       "      <td>F</td>\n",
       "      <td>3_38_F</td>\n",
       "      <td>B003290</td>\n",
       "    </tr>\n",
       "  </tbody>\n",
       "</table>\n",
       "</div>"
      ],
      "text/plain": [
       "                      cell_ontology_class subtissue mouse.sex mouse.id  \\\n",
       "cell                                                                     \n",
       "A1.B003290.3_38_F.1.1           astrocyte  Striatum         F   3_38_F   \n",
       "\n",
       "                      plate.barcode  \n",
       "cell                                 \n",
       "A1.B003290.3_38_F.1.1       B003290  "
      ]
     },
     "execution_count": 13,
     "metadata": {},
     "output_type": "execute_result"
    }
   ],
   "source": [
    "# print the headers\n",
    "brain_meta.head(1)"
   ]
  },
  {
   "cell_type": "markdown",
   "metadata": {},
   "source": [
    "We can extract a lot of information from the meta data, for example, let us count the number of subtissues samples in the data, and count the sex of the mice"
   ]
  },
  {
   "cell_type": "code",
   "execution_count": 15,
   "metadata": {},
   "outputs": [
    {
     "name": "stdout",
     "output_type": "stream",
     "text": [
      "Cortex         1149\n",
      "Hippocampus     976\n",
      "Striatum        723\n",
      "Cerebellum      553\n",
      "Name: subtissue, dtype: int64\n",
      "----------\n",
      "M    2694\n",
      "F     707\n",
      "Name: mouse.sex, dtype: int64\n"
     ]
    }
   ],
   "source": [
    "print(pd.value_counts(brain_meta['subtissue']))\n",
    "print(\"----------\")\n",
    "print(pd.value_counts(brain_meta['mouse.sex']))"
   ]
  },
  {
   "cell_type": "code",
   "execution_count": null,
   "metadata": {},
   "outputs": [],
   "source": []
  }
 ],
 "metadata": {
  "kernelspec": {
   "display_name": "Python 3",
   "language": "python",
   "name": "python3"
  },
  "language_info": {
   "codemirror_mode": {
    "name": "ipython",
    "version": 3
   },
   "file_extension": ".py",
   "mimetype": "text/x-python",
   "name": "python",
   "nbconvert_exporter": "python",
   "pygments_lexer": "ipython3",
   "version": "3.8.3"
  }
 },
 "nbformat": 4,
 "nbformat_minor": 4
}
