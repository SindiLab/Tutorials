{
 "cells": [
  {
   "cell_type": "markdown",
   "metadata": {},
   "source": [
    "# Tabula Muris Data: From Raw Data to Analysis\n",
    "\n",
    "In this notebook, we will go over how to start with the Chan-Zuckerberg's Tabula Muris data from start to finish."
   ]
  },
  {
   "cell_type": "markdown",
   "metadata": {},
   "source": [
    "## 1. Downloading Data\n",
    "\n",
    "The data is public and it can be freely accessed through AWS or the CZ github repo. To download, here we provide two options:"
   ]
  },
  {
   "cell_type": "markdown",
   "metadata": {},
   "source": [
    "### Option 1 Direct Download from the Chan-Zuckerberg Repo:\n",
    "\n",
    "Here we will `wget` the data from CZ rep:"
   ]
  },
  {
   "cell_type": "code",
   "execution_count": 1,
   "metadata": {},
   "outputs": [
    {
     "name": "stdout",
     "output_type": "stream",
     "text": [
      "--2020-10-22 17:44:03--  https://github.com/chanzuckerberg/scRNA-python-workshop/raw/master/content/data.zip\n",
      "Resolving github.com (github.com)... 140.82.114.4\n",
      "Connecting to github.com (github.com)|140.82.114.4|:443... connected.\n",
      "HTTP request sent, awaiting response... 302 Found\n",
      "Location: https://raw.githubusercontent.com/chanzuckerberg/scRNA-python-workshop/master/content/data.zip [following]\n",
      "--2020-10-22 17:44:03--  https://raw.githubusercontent.com/chanzuckerberg/scRNA-python-workshop/master/content/data.zip\n",
      "Resolving raw.githubusercontent.com (raw.githubusercontent.com)... 151.101.196.133\n",
      "Connecting to raw.githubusercontent.com (raw.githubusercontent.com)|151.101.196.133|:443... connected.\n",
      "HTTP request sent, awaiting response... 200 OK\n",
      "Length: 74104660 (71M) [application/zip]\n",
      "Saving to: ‘data.zip’\n",
      "\n",
      "data.zip            100%[===================>]  70.67M   175MB/s    in 0.4s    \n",
      "\n",
      "2020-10-22 17:44:05 (175 MB/s) - ‘data.zip’ saved [74104660/74104660]\n",
      "\n"
     ]
    }
   ],
   "source": [
    "!wget https://github.com/chanzuckerberg/scRNA-python-workshop/raw/master/content/data.zip"
   ]
  },
  {
   "cell_type": "code",
   "execution_count": 2,
   "metadata": {},
   "outputs": [
    {
     "name": "stdout",
     "output_type": "stream",
     "text": [
      "Archive:  data.zip\n",
      "  inflating: brain_metadata.csv      \n",
      "  inflating: glioblastoma_normalized.h5ad  \n",
      "  inflating: glioblastoma_raw.h5ad   \n",
      "  inflating: brain_counts.csv        \n",
      "  inflating: pbmc3k.h5ad             \n"
     ]
    }
   ],
   "source": [
    "!unzip data.zip"
   ]
  },
  {
   "cell_type": "markdown",
   "metadata": {},
   "source": [
    "Note: From here on, we will be storing the data in a folder called `TM_Data` "
   ]
  },
  {
   "cell_type": "markdown",
   "metadata": {},
   "source": [
    "### Option 2: Download using AWS (recommended)\n",
    "\n",
    "To make things much nicer, we will first install AWS CLI (command line interface) and then download the data. \n",
    "\n",
    "N.b: Having the AWS CLI installed on your machine/cluster will come in very handy!"
   ]
  },
  {
   "cell_type": "code",
   "execution_count": 3,
   "metadata": {},
   "outputs": [
    {
     "name": "stdout",
     "output_type": "stream",
     "text": [
      "  % Total    % Received % Xferd  Average Speed   Time    Time     Time  Current\n",
      "                                 Dload  Upload   Total   Spent    Left  Speed\n",
      "100 32.3M  100 32.3M    0     0  57.8M      0 --:--:-- --:--:-- --:--:-- 57.7M\n"
     ]
    }
   ],
   "source": [
    "## get the CLI Zip\n",
    "!curl \"https://awscli.amazonaws.com/awscli-exe-linux-x86_64.zip\" -o \"awscliv2.zip\""
   ]
  },
  {
   "cell_type": "markdown",
   "metadata": {},
   "source": [
    "Now unzip the file:"
   ]
  },
  {
   "cell_type": "code",
   "execution_count": 6,
   "metadata": {},
   "outputs": [
    {
     "name": "stdout",
     "output_type": "stream",
     "text": [
      "You can now run: /usr/local/bin/aws --version\n"
     ]
    }
   ],
   "source": [
    "# Now unzip and install CLI\n",
    "\n",
    "### I HAVE AWS INSTALLED SO I GET THE FOLLOWING MESSAGE, BUT YOU SHOULD EXCEPT FULL INSTALLATION\n",
    "# !unzip awscliv2.zip\n",
    "!sudo ./aws/install"
   ]
  },
  {
   "cell_type": "markdown",
   "metadata": {},
   "source": [
    "Now if you don't have AWS credentials that's fine, we can do a an unauthenticated request (with no sign-in flag) since the data is available publicly"
   ]
  },
  {
   "cell_type": "code",
   "execution_count": 7,
   "metadata": {},
   "outputs": [
    {
     "name": "stdout",
     "output_type": "stream",
     "text": [
      "                           PRE 10x_bam_files/\n",
      "                           PRE facs_bam_files/\n",
      "2018-10-08 18:38:40  147226550 TM_droplet_mat.csv.gz\n",
      "2018-10-08 18:38:45  247481595 TM_droplet_mat.h5ad\n",
      "2018-10-08 18:38:52  245224669 TM_droplet_mat.rds\n",
      "2018-10-08 18:39:00    6120187 TM_droplet_metadata.csv\n",
      "2018-10-08 18:39:00  318146414 TM_facs_mat.csv.gz\n",
      "2018-10-08 18:39:11  487706533 TM_facs_mat.h5ad\n",
      "2018-10-08 18:39:11  520953990 TM_facs_mat.rds\n",
      "2018-10-08 18:39:25    5691123 TM_facs_metadata.csv\n"
     ]
    }
   ],
   "source": [
    "# list the files in the directory\n",
    "!aws s3 ls s3://czb-tabula-muris/ --no-sign-request"
   ]
  },
  {
   "cell_type": "code",
   "execution_count": 8,
   "metadata": {},
   "outputs": [
    {
     "name": "stdout",
     "output_type": "stream",
     "text": [
      "download: s3://czbiohub-tabula-muris/TM_facs_metadata.csv to TM_Data/TM_facs_metadata.csv\n"
     ]
    }
   ],
   "source": [
    "# here we want to download the files that we have access to, so for example let us download this CSV file\n",
    "\n",
    "!aws s3 cp s3://czbiohub-tabula-muris/TM_facs_metadata.csv ./TM_Data --no-sign-request"
   ]
  },
  {
   "cell_type": "markdown",
   "metadata": {},
   "source": [
    "## Read in the Data:\n",
    "\n",
    "Now you can use your favorite way of reading in data to python. In this NB, we will be using Pandas due to the convenience and popularity"
   ]
  },
  {
   "cell_type": "code",
   "execution_count": 10,
   "metadata": {},
   "outputs": [],
   "source": [
    "import pandas as pd\n",
    "\n",
    "brain_count = pd.read_csv(\"./TM_Data/brain_counts.csv\", sep = ',', header = \"infer\", index_col = 0, error_bad_lines = True)"
   ]
  },
  {
   "cell_type": "markdown",
   "metadata": {},
   "source": [
    "So at this point, we have read in the data which consists of ***unique cells*** (in rows) and ***genes*** (in columns). Let's find how many cells and how many genes we have in the data:"
   ]
  },
  {
   "cell_type": "code",
   "execution_count": 11,
   "metadata": {},
   "outputs": [
    {
     "name": "stdout",
     "output_type": "stream",
     "text": [
      "Number of Unique Cells: 3401\n",
      "Number of Genes: 23433\n"
     ]
    }
   ],
   "source": [
    "print(f\"Number of Unique Cells: {len(brain_count)}\")\n",
    "print(f\"Number of Genes: {len(brain_count.columns)}\")"
   ]
  },
  {
   "cell_type": "markdown",
   "metadata": {},
   "source": [
    "### Getting Information from MetaData\n",
    "\n",
    "Since we have a meta data associated with the brain cells, let us use it to see what information we can exctract from them"
   ]
  },
  {
   "cell_type": "code",
   "execution_count": 12,
   "metadata": {},
   "outputs": [],
   "source": [
    "brain_meta = pd.read_csv(\"./TM_Data/brain_metadata.csv\", sep = ',', header = \"infer\", index_col = 0, error_bad_lines = True)"
   ]
  },
  {
   "cell_type": "code",
   "execution_count": 13,
   "metadata": {},
   "outputs": [
    {
     "data": {
      "text/html": [
       "<div>\n",
       "<style scoped>\n",
       "    .dataframe tbody tr th:only-of-type {\n",
       "        vertical-align: middle;\n",
       "    }\n",
       "\n",
       "    .dataframe tbody tr th {\n",
       "        vertical-align: top;\n",
       "    }\n",
       "\n",
       "    .dataframe thead th {\n",
       "        text-align: right;\n",
       "    }\n",
       "</style>\n",
       "<table border=\"1\" class=\"dataframe\">\n",
       "  <thead>\n",
       "    <tr style=\"text-align: right;\">\n",
       "      <th></th>\n",
       "      <th>cell_ontology_class</th>\n",
       "      <th>subtissue</th>\n",
       "      <th>mouse.sex</th>\n",
       "      <th>mouse.id</th>\n",
       "      <th>plate.barcode</th>\n",
       "    </tr>\n",
       "    <tr>\n",
       "      <th>cell</th>\n",
       "      <th></th>\n",
       "      <th></th>\n",
       "      <th></th>\n",
       "      <th></th>\n",
       "      <th></th>\n",
       "    </tr>\n",
       "  </thead>\n",
       "  <tbody>\n",
       "    <tr>\n",
       "      <th>A1.B003290.3_38_F.1.1</th>\n",
       "      <td>astrocyte</td>\n",
       "      <td>Striatum</td>\n",
       "      <td>F</td>\n",
       "      <td>3_38_F</td>\n",
       "      <td>B003290</td>\n",
       "    </tr>\n",
       "  </tbody>\n",
       "</table>\n",
       "</div>"
      ],
      "text/plain": [
       "                      cell_ontology_class subtissue mouse.sex mouse.id  \\\n",
       "cell                                                                     \n",
       "A1.B003290.3_38_F.1.1           astrocyte  Striatum         F   3_38_F   \n",
       "\n",
       "                      plate.barcode  \n",
       "cell                                 \n",
       "A1.B003290.3_38_F.1.1       B003290  "
      ]
     },
     "execution_count": 13,
     "metadata": {},
     "output_type": "execute_result"
    }
   ],
   "source": [
    "# print the headers\n",
    "brain_meta.head(1)"
   ]
  },
  {
   "cell_type": "markdown",
   "metadata": {},
   "source": [
    "We can extract a lot of information from the meta data, for example, let us count the number of subtissues samples in the data, and count the sex of the mice"
   ]
  },
  {
   "cell_type": "code",
   "execution_count": 14,
   "metadata": {},
   "outputs": [
    {
     "name": "stdout",
     "output_type": "stream",
     "text": [
      "Cortex         1149\n",
      "Hippocampus     976\n",
      "Striatum        723\n",
      "Cerebellum      553\n",
      "Name: subtissue, dtype: int64\n",
      "----------\n",
      "M    2694\n",
      "F     707\n",
      "Name: mouse.sex, dtype: int64\n"
     ]
    }
   ],
   "source": [
    "print(pd.value_counts(brain_meta['subtissue']))\n",
    "print(\"----------\")\n",
    "print(pd.value_counts(brain_meta['mouse.sex']))"
   ]
  },
  {
   "cell_type": "markdown",
   "metadata": {},
   "source": [
    "Now that we have successfully loaded the data and are able to read the meta data as well, it is time to move on to annotatint the data"
   ]
  },
  {
   "cell_type": "markdown",
   "metadata": {},
   "source": [
    "## 2. Data Anotation\n",
    "\n",
    "We will use `scanpy` to create an `AnnData` object so that we can keep using `scanpy` for further data analysis."
   ]
  },
  {
   "cell_type": "code",
   "execution_count": 15,
   "metadata": {},
   "outputs": [],
   "source": [
    "import scanpy as sc"
   ]
  },
  {
   "cell_type": "code",
   "execution_count": 16,
   "metadata": {},
   "outputs": [],
   "source": [
    "# Here X is going to be the counts, and obs will be the observations or meta data\n",
    "\n",
    "annotated_data = sc.AnnData(X = brain_count, obs =brain_meta)"
   ]
  },
  {
   "cell_type": "code",
   "execution_count": 17,
   "metadata": {},
   "outputs": [
    {
     "data": {
      "text/html": [
       "<div>\n",
       "<style scoped>\n",
       "    .dataframe tbody tr th:only-of-type {\n",
       "        vertical-align: middle;\n",
       "    }\n",
       "\n",
       "    .dataframe tbody tr th {\n",
       "        vertical-align: top;\n",
       "    }\n",
       "\n",
       "    .dataframe thead th {\n",
       "        text-align: right;\n",
       "    }\n",
       "</style>\n",
       "<table border=\"1\" class=\"dataframe\">\n",
       "  <thead>\n",
       "    <tr style=\"text-align: right;\">\n",
       "      <th></th>\n",
       "      <th>cell_ontology_class</th>\n",
       "      <th>subtissue</th>\n",
       "      <th>mouse.sex</th>\n",
       "      <th>mouse.id</th>\n",
       "      <th>plate.barcode</th>\n",
       "    </tr>\n",
       "    <tr>\n",
       "      <th>cell</th>\n",
       "      <th></th>\n",
       "      <th></th>\n",
       "      <th></th>\n",
       "      <th></th>\n",
       "      <th></th>\n",
       "    </tr>\n",
       "  </thead>\n",
       "  <tbody>\n",
       "    <tr>\n",
       "      <th>A1.B003290.3_38_F.1.1</th>\n",
       "      <td>astrocyte</td>\n",
       "      <td>Striatum</td>\n",
       "      <td>F</td>\n",
       "      <td>3_38_F</td>\n",
       "      <td>B003290</td>\n",
       "    </tr>\n",
       "    <tr>\n",
       "      <th>A1.B003728.3_56_F.1.1</th>\n",
       "      <td>astrocyte</td>\n",
       "      <td>Striatum</td>\n",
       "      <td>F</td>\n",
       "      <td>3_56_F</td>\n",
       "      <td>B003728</td>\n",
       "    </tr>\n",
       "    <tr>\n",
       "      <th>A1.MAA000560.3_10_M.1.1</th>\n",
       "      <td>oligodendrocyte</td>\n",
       "      <td>Cortex</td>\n",
       "      <td>M</td>\n",
       "      <td>3_10_M</td>\n",
       "      <td>MAA000560</td>\n",
       "    </tr>\n",
       "    <tr>\n",
       "      <th>A1.MAA000564.3_10_M.1.1</th>\n",
       "      <td>endothelial cell</td>\n",
       "      <td>Striatum</td>\n",
       "      <td>M</td>\n",
       "      <td>3_10_M</td>\n",
       "      <td>MAA000564</td>\n",
       "    </tr>\n",
       "    <tr>\n",
       "      <th>A1.MAA000923.3_9_M.1.1</th>\n",
       "      <td>astrocyte</td>\n",
       "      <td>Hippocampus</td>\n",
       "      <td>M</td>\n",
       "      <td>3_9_M</td>\n",
       "      <td>MAA000923</td>\n",
       "    </tr>\n",
       "    <tr>\n",
       "      <th>...</th>\n",
       "      <td>...</td>\n",
       "      <td>...</td>\n",
       "      <td>...</td>\n",
       "      <td>...</td>\n",
       "      <td>...</td>\n",
       "    </tr>\n",
       "    <tr>\n",
       "      <th>P9.MAA000926.3_9_M.1.1</th>\n",
       "      <td>oligodendrocyte precursor cell</td>\n",
       "      <td>Cortex</td>\n",
       "      <td>M</td>\n",
       "      <td>3_9_M</td>\n",
       "      <td>MAA000926</td>\n",
       "    </tr>\n",
       "    <tr>\n",
       "      <th>P9.MAA000930.3_8_M.1.1</th>\n",
       "      <td>astrocyte</td>\n",
       "      <td>Cortex</td>\n",
       "      <td>M</td>\n",
       "      <td>3_8_M</td>\n",
       "      <td>MAA000930</td>\n",
       "    </tr>\n",
       "    <tr>\n",
       "      <th>P9.MAA000932.3_11_M.1.1</th>\n",
       "      <td>endothelial cell</td>\n",
       "      <td>Hippocampus</td>\n",
       "      <td>M</td>\n",
       "      <td>3_11_M</td>\n",
       "      <td>MAA000932</td>\n",
       "    </tr>\n",
       "    <tr>\n",
       "      <th>P9.MAA000935.3_8_M.1.1</th>\n",
       "      <td>oligodendrocyte</td>\n",
       "      <td>Hippocampus</td>\n",
       "      <td>M</td>\n",
       "      <td>3_8_M</td>\n",
       "      <td>MAA000935</td>\n",
       "    </tr>\n",
       "    <tr>\n",
       "      <th>P9.MAA001894.3_39_F.1.1</th>\n",
       "      <td>astrocyte</td>\n",
       "      <td>Cortex</td>\n",
       "      <td>F</td>\n",
       "      <td>3_39_F</td>\n",
       "      <td>MAA001894</td>\n",
       "    </tr>\n",
       "  </tbody>\n",
       "</table>\n",
       "<p>3401 rows × 5 columns</p>\n",
       "</div>"
      ],
      "text/plain": [
       "                                    cell_ontology_class    subtissue  \\\n",
       "cell                                                                   \n",
       "A1.B003290.3_38_F.1.1                         astrocyte     Striatum   \n",
       "A1.B003728.3_56_F.1.1                         astrocyte     Striatum   \n",
       "A1.MAA000560.3_10_M.1.1                 oligodendrocyte       Cortex   \n",
       "A1.MAA000564.3_10_M.1.1                endothelial cell     Striatum   \n",
       "A1.MAA000923.3_9_M.1.1                        astrocyte  Hippocampus   \n",
       "...                                                 ...          ...   \n",
       "P9.MAA000926.3_9_M.1.1   oligodendrocyte precursor cell       Cortex   \n",
       "P9.MAA000930.3_8_M.1.1                        astrocyte       Cortex   \n",
       "P9.MAA000932.3_11_M.1.1                endothelial cell  Hippocampus   \n",
       "P9.MAA000935.3_8_M.1.1                  oligodendrocyte  Hippocampus   \n",
       "P9.MAA001894.3_39_F.1.1                       astrocyte       Cortex   \n",
       "\n",
       "                        mouse.sex mouse.id plate.barcode  \n",
       "cell                                                      \n",
       "A1.B003290.3_38_F.1.1           F   3_38_F       B003290  \n",
       "A1.B003728.3_56_F.1.1           F   3_56_F       B003728  \n",
       "A1.MAA000560.3_10_M.1.1         M   3_10_M     MAA000560  \n",
       "A1.MAA000564.3_10_M.1.1         M   3_10_M     MAA000564  \n",
       "A1.MAA000923.3_9_M.1.1          M    3_9_M     MAA000923  \n",
       "...                           ...      ...           ...  \n",
       "P9.MAA000926.3_9_M.1.1          M    3_9_M     MAA000926  \n",
       "P9.MAA000930.3_8_M.1.1          M    3_8_M     MAA000930  \n",
       "P9.MAA000932.3_11_M.1.1         M   3_11_M     MAA000932  \n",
       "P9.MAA000935.3_8_M.1.1          M    3_8_M     MAA000935  \n",
       "P9.MAA001894.3_39_F.1.1         F   3_39_F     MAA001894  \n",
       "\n",
       "[3401 rows x 5 columns]"
      ]
     },
     "execution_count": 17,
     "metadata": {},
     "output_type": "execute_result"
    }
   ],
   "source": [
    "# checking if we have the right attributes\n",
    "annotated_data.obs"
   ]
  },
  {
   "cell_type": "markdown",
   "metadata": {},
   "source": [
    "### Labeling spike-ins \n",
    "\n",
    "Since the Tabula Muris data is sequenced through smart-seq, we may have spike-ins*, which we want to annotate seperately. This can be done by assigning genes that have `ERCC` as the `.Var` attribute of the `annodated_data` structure we created.\n",
    "\n",
    "*What are ***Spike-Ins***? here is the definition from Wikipedia \n",
    "An RNA spike-in is an RNA transcript of known sequence and quantity used to calibrate measurements in RNA hybridization assays, such as DNA microarray experiments, RT-qPCR, and RNA-Seq. A spike-in is designed to bind to a DNA molecule with a matching sequence, known as a control probe. This process of specific binding is called hybridization. A known quantity of RNA spike-in is mixed with the experiment sample during preparation. The degree of hybridization between the spike-ins and the control probes is used to normalize the hybridization measurements of the sample RNA."
   ]
  },
  {
   "cell_type": "code",
   "execution_count": 20,
   "metadata": {},
   "outputs": [
    {
     "name": "stdout",
     "output_type": "stream",
     "text": [
      "Found 92 many Spike-Ins in the data\n"
     ]
    }
   ],
   "source": [
    "spike_dict = dict();\n",
    "spike_counter = 0;\n",
    "\n",
    "for genes in annotated_data.var_names:\n",
    "    if 'ERCC' in genes:\n",
    "        spike_dict[genes] = True;\n",
    "        spike_counter+=1;\n",
    "    else:\n",
    "        spike_dict[genes] = False;        \n",
    "        \n",
    "print(f\"Found {spike_counter} many Spike-Ins in the data\")"
   ]
  },
  {
   "cell_type": "markdown",
   "metadata": {},
   "source": [
    "now that we have a map of every gene for Spike ins as true or false, we can use pd to add nicely add them as an attribute to `annotated_data`"
   ]
  },
  {
   "cell_type": "code",
   "execution_count": 21,
   "metadata": {},
   "outputs": [],
   "source": [
    "annotated_data.var['ERCC'] = pd.Series(spike_dict);"
   ]
  },
  {
   "cell_type": "code",
   "execution_count": 23,
   "metadata": {},
   "outputs": [
    {
     "name": "stderr",
     "output_type": "stream",
     "text": [
      "... storing 'cell_ontology_class' as categorical\n",
      "... storing 'subtissue' as categorical\n",
      "... storing 'mouse.sex' as categorical\n",
      "... storing 'mouse.id' as categorical\n",
      "... storing 'plate.barcode' as categorical\n"
     ]
    }
   ],
   "source": [
    "#and now we want to save the data in the AnnData format\n",
    "\n",
    "annotated_data.write('./Processed_Data/brain_AnnData.h5ad') ## the h5ad extension is AnnData-specific"
   ]
  },
  {
   "cell_type": "code",
   "execution_count": null,
   "metadata": {},
   "outputs": [],
   "source": []
  }
 ],
 "metadata": {
  "kernelspec": {
   "display_name": "Python 3",
   "language": "python",
   "name": "python3"
  },
  "language_info": {
   "codemirror_mode": {
    "name": "ipython",
    "version": 3
   },
   "file_extension": ".py",
   "mimetype": "text/x-python",
   "name": "python",
   "nbconvert_exporter": "python",
   "pygments_lexer": "ipython3",
   "version": "3.8.3"
  }
 },
 "nbformat": 4,
 "nbformat_minor": 4
}
