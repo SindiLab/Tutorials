{
 "cells": [
  {
   "cell_type": "markdown",
   "id": "21f30869-2c7c-4417-bcd8-f232417927e4",
   "metadata": {},
   "source": [
    "# scANNA Tutorial: Using scANNA's Interpretability for Selecting Most Important Global Features\n",
    "## For GSE144236 Data\n",
    "\n",
    "In this notebook, we will go over how to load a pre-trained scANNA model and how to extract the most important (global) genes according to our model's interpretability."
   ]
  },
  {
   "cell_type": "code",
   "execution_count": 1,
   "id": "07741a3d-7f9c-42dd-b90d-f8ba18d87396",
   "metadata": {},
   "outputs": [
    {
     "name": "stdout",
     "output_type": "stream",
     "text": [
      "ℹ️ Assuming editor is Jupyter Lab.\n"
     ]
    },
    {
     "data": {
      "text/html": [
       "<table><tbody><tr><td style='text-align: left;'><b>id</b></td><td style='text-align: left;'>ejpJ<span style='opacity:0.3'>XTbwOgNp</span></td></tr><tr><td style='text-align: left;'><b>version</b></td><td style='text-align: left;'>0</td></tr><tr><td style='text-align: left;'><b>time_init</b></td><td style='text-align: left;'>2023-03-13 18:19</td></tr><tr><td style='text-align: left;'><b>time_run</b></td><td style='text-align: left;'>2023-03-13 18:19</td></tr><tr><td style='text-align: left;'><b>pypackage</b></td><td style='text-align: left;'>matplotlib==3.5.1 nbproject==0.8.1 numpy==1.23.5 scanna==0.0.2 scanpy==1.9.1 scikit-learn==1.2.0 smashpy==0.1.2 torch==1.13.1 xgboost==1.7.3</td></tr></tbody></table>"
      ],
      "text/plain": [
       "<IPython.core.display.HTML object>"
      ]
     },
     "metadata": {},
     "output_type": "display_data"
    }
   ],
   "source": [
    "try:\n",
    "    from nbproject import header\n",
    "    header(filepath=\"/home/aheydari/SindiLabTutorials/\"\n",
    "           \"scANNA(single-cell Analysis using Neural Attention)/\"\n",
    "           \"Global Feature Selection/\"\n",
    "           \"scANNA_tutorial_FindingGlobalMarkers_GSE144236.ipynb\")\n",
    "\n",
    "except ModuleNotFoundError:\n",
    "    print(\"Please install nbproject (pip install nbproject) to see header\"\n",
    "         \"dependencies.\")"
   ]
  },
  {
   "cell_type": "code",
   "execution_count": 2,
   "id": "02c74058-f1ba-4821-8e93-d1b977d63222",
   "metadata": {
    "tags": []
   },
   "outputs": [
    {
     "name": "stderr",
     "output_type": "stream",
     "text": [
      "2023-03-13 11:20:04.991594: I tensorflow/core/util/port.cc:110] oneDNN custom operations are on. You may see slightly different numerical results due to floating-point round-off errors from different computation orders. To turn them off, set the environment variable `TF_ENABLE_ONEDNN_OPTS=0`.\n",
      "2023-03-13 11:20:05.038772: E tensorflow/tsl/lib/monitoring/collection_registry.cc:81] Cannot register 2 metrics with the same name: /tensorflow/core/bfc_allocator_delay\n",
      "2023-03-13 11:20:05.040900: I tensorflow/core/platform/cpu_feature_guard.cc:182] This TensorFlow binary is optimized to use available CPU instructions in performance-critical operations.\n",
      "To enable the following instructions: AVX2 AVX512F AVX512_VNNI FMA, in other operations, rebuild TensorFlow with the appropriate compiler flags.\n",
      "2023-03-13 11:20:06.325001: W tensorflow/compiler/tf2tensorrt/utils/py_utils.cc:38] TF-TRT Warning: Could not find TensorRT\n"
     ]
    }
   ],
   "source": [
    "import matplotlib.pyplot as plt\n",
    "import numpy as np\n",
    "import os\n",
    "from scanna.utilities import *\n",
    "from scanna import AttentionQuery, scanpy_to_dataloader\n",
    "import scanpy as sc\n",
    "import smashpy\n",
    "from sklearn.metrics import f1_score, accuracy_score\n",
    "from sklearn.neighbors import NearestCentroid, KNeighborsClassifier\n",
    "import torch\n",
    "import time\n",
    "from xgboost import XGBClassifier "
   ]
  },
  {
   "cell_type": "code",
   "execution_count": 3,
   "id": "246488d3-9d9f-460b-89df-2614cf6608ed",
   "metadata": {},
   "outputs": [],
   "source": [
    "%load_ext autoreload\n",
    "%autoreload 2"
   ]
  },
  {
   "cell_type": "markdown",
   "id": "10b556d1-4753-44ea-a037-9be2d65535a8",
   "metadata": {},
   "source": [
    "Here we define some general functions for our analyses"
   ]
  },
  {
   "cell_type": "code",
   "execution_count": 4,
   "id": "8438dca3-691b-4f93-8413-d448f1658fe0",
   "metadata": {},
   "outputs": [],
   "source": [
    "def get_logp1_variance(data:np.array)->float:\n",
    "    \"\"\" Function for calculating the variance of a Log(x+1) transformed data\"\"\"\n",
    "    return np.var(np.log(data + 1), axis=0).sum()\n",
    "\n",
    "def explained_variance_ratio(full_dimension_data:np.array, \n",
    "                             train_data:np.array, \n",
    "                             test_data:np.array)->float:\n",
    "    \"\"\" Utility function for calculating the fraction of total variance\"\"\"\n",
    "    all_data = np.concatenate((train_data, test_data), axis=0)\n",
    "    return (get_logp1_variance(all_data) / \n",
    "            get_logp1_variance(full_dimension_data))\n",
    "\n",
    "def measure_performance(X_train:np.array, \n",
    "                y_train:np.array, \n",
    "                X_test:np.array, \n",
    "                y_test:np.array, \n",
    "                classifer: NearestCentroid | KNeighborsClassifier | \n",
    "                  XGBClassifier, \n",
    "                scoring : str = 'weighted', \n",
    "                classifier_name : str = None):\n",
    "    \"\"\" Function for automating classification and calculating F1 score\"\"\"\n",
    "    start_time = time.time()\n",
    "    classifer.fit(X_train, y_train)\n",
    "    y_pred = classifer.predict(X_test)\n",
    "    f1_accuracy = f1_score(y_test, y_pred, average=scoring)\n",
    "    if classifier_name is not None:\n",
    "        print(f\"For {classifier_name} classifier:\")\n",
    "        \n",
    "    print(f\"F1 ({scoring}) Score: {f1_accuracy}\")\n",
    "    print(f\"Training and classification time took: {time.time() - start_time}\")\n",
    "    print()\n",
    "    return f1_accuracy\n",
    "    "
   ]
  },
  {
   "cell_type": "markdown",
   "id": "2a887473-86cf-4334-b1fd-bae1d81a1c13",
   "metadata": {},
   "source": [
    "# Define Various Classification Models for Validation"
   ]
  },
  {
   "cell_type": "code",
   "execution_count": 5,
   "id": "e345bd94-1d60-469c-b7f6-38283d5b092a",
   "metadata": {},
   "outputs": [],
   "source": [
    "nearest_centroid_classifier=NearestCentroid()\n",
    "\n",
    "knn_classifier= KNeighborsClassifier(n_neighbors=3, \n",
    "                                     n_jobs=-1)\n",
    "\n",
    "xgboost_classifier = XGBClassifier(n_estimators=50, \n",
    "                                   max_depth=2, \n",
    "                                   learning_rate=0.09, \n",
    "                                   objective='binary:logistic', \n",
    "                                   n_jobs=-1)"
   ]
  },
  {
   "cell_type": "markdown",
   "id": "fe39e95a-ce41-48ec-af80-d13e4e54bf84",
   "metadata": {},
   "source": [
    "## Checking Accuracy on All Highly Variable Genes (HVGs)\n",
    "\n",
    "As a baseline and to see how well scANNA picks the highly variable genes, we will check the accuracy of each classifer on **all** HVGs."
   ]
  },
  {
   "cell_type": "code",
   "execution_count": 6,
   "id": "146e052d-c48b-4871-913b-9cb98990564b",
   "metadata": {},
   "outputs": [],
   "source": [
    "abs_path = \"/home/aheydari/\"\n",
    "local_path = \"data/scANNA_Data/Benchmarking/\""
   ]
  },
  {
   "cell_type": "code",
   "execution_count": 7,
   "id": "6cf219de-0198-4edd-b15b-fcd41a1dfb44",
   "metadata": {},
   "outputs": [],
   "source": [
    "# label for the dataset folder we want to make\n",
    "dataset_name = \"GSE144236\"\n",
    "# directory for specific dataset\n",
    "dataset_dir = f\"./{dataset_name}\" \n",
    "# subdir where we store cluster attention and attention means\n",
    "results = f\"./{dataset_name}/results\" \n",
    "# subdir where we store cluster enrichment plots\n",
    "plots = f\"./{dataset_dir}/plots\" "
   ]
  },
  {
   "cell_type": "code",
   "execution_count": 8,
   "id": "8d006b44-e43a-4730-985d-eb31fe8734ab",
   "metadata": {},
   "outputs": [],
   "source": [
    "path_to_data = (f\"{abs_path}{local_path}{dataset_name}\"\n",
    "                \"_qc_hvg_anno_5k_raw_train_split.h5ad\")\n",
    "\n",
    "adata = sc.read(path_to_data)\n",
    "\n",
    "adata_train = adata[adata.obs.split==\"train\"]\n",
    "adata_test = adata[adata.obs.split==\"test\"]\n",
    "\n",
    "labels_train  = adata_train.obs.cluster.to_numpy()\n",
    "labels_test  = adata_test.obs.cluster.to_numpy()"
   ]
  },
  {
   "cell_type": "code",
   "execution_count": 9,
   "id": "05af3128-9eea-4bba-b6c8-874c807a8bdc",
   "metadata": {},
   "outputs": [
    {
     "name": "stdout",
     "output_type": "stream",
     "text": [
      "For all 5000 HVGs:\n",
      "For Nearest Centroid classifier:\n",
      "F1 (weighted) Score: 0.928457919142612\n",
      "Training and classification time took: 0.8102343082427979\n",
      "\n",
      "For KNN classifier:\n",
      "F1 (weighted) Score: 0.9490377928971154\n",
      "Training and classification time took: 3.890660047531128\n",
      "\n",
      "For XGBoost classifier:\n",
      "F1 (weighted) Score: 0.9509147664583021\n",
      "Training and classification time took: 42.80195450782776\n",
      "\n"
     ]
    }
   ],
   "source": [
    "print(\"For all 5000 HVGs:\")\n",
    "\n",
    "nc_5k_accuracy = measure_performance(np.array(adata_train.X.todense()), \n",
    "                     labels_train.astype(int) ,\n",
    "                     np.array(adata_test.X.todense()), \n",
    "                     labels_test.astype(int), \n",
    "                     classifer=nearest_centroid_classifier,\n",
    "                     classifier_name = \"Nearest Centroid\",\n",
    "                     )\n",
    "\n",
    "knn_5k_accuracy = measure_performance(np.array(adata_train.X.todense()), \n",
    "                     labels_train.astype(int) ,\n",
    "                     np.array(adata_test.X.todense()), \n",
    "                     labels_test.astype(int), \n",
    "                     classifer=knn_classifier,\n",
    "                     classifier_name = \"KNN\",\n",
    "                     )\n",
    "\n",
    "xgb_5k_accuracy = measure_performance(np.array(adata_train.X.todense()), \n",
    "                     labels_train.astype(int) ,\n",
    "                     np.array(adata_test.X.todense()), \n",
    "                     labels_test.astype(int), \n",
    "                     classifer=xgboost_classifier,\n",
    "                     classifier_name = \"XGBoost\",\n",
    "                     )\n"
   ]
  },
  {
   "cell_type": "markdown",
   "id": "13f36ca9-4263-4eea-b8fd-fcb5179aae9f",
   "metadata": {},
   "source": [
    "It seems that KNN has the highest accuracy, so at the end we will use KNN to compare the accuracy across all methods (although we do calculate accuracy for Nearest Centroid and XGBoost as well)."
   ]
  },
  {
   "cell_type": "markdown",
   "id": "6d5ca0a9-59b8-4c31-bb6b-6e5b67dd2758",
   "metadata": {},
   "source": [
    "### Defining the Number of Top Genes\n",
    "\n",
    "Here we define `top_n` which consist of number of top `n` marker genes we want to use and compare across methods."
   ]
  },
  {
   "cell_type": "code",
   "execution_count": 10,
   "id": "2b64b97f-f4ee-4af4-aad4-c8dc96f0f2f1",
   "metadata": {},
   "outputs": [],
   "source": [
    "top_n = [25, 50, 100, 200, 300]"
   ]
  },
  {
   "cell_type": "markdown",
   "id": "02de7b9d-564a-4a47-8d0b-f9e06f10adf3",
   "metadata": {},
   "source": [
    "## scANNA\n",
    "\n",
    "In this section, we validate scANNA's performance for selecting most important global features\n",
    "by: \n",
    "1. Calculating the classification accuracy given top `n` genes and compare that to the 5000 HVGs and other methods\n",
    "2. Computing the fraction of variance on the original gene space (total variance) and comparing that with other approaches. "
   ]
  },
  {
   "cell_type": "code",
   "execution_count": 11,
   "id": "c64310dc-afd6-48fa-9bb1-e8096fca352e",
   "metadata": {},
   "outputs": [],
   "source": [
    "adata = sc.read(path_to_data)"
   ]
  },
  {
   "cell_type": "markdown",
   "id": "1af616b1-8b65-4dfa-acaa-604fdc89694a",
   "metadata": {},
   "source": [
    "### Loading in scANNA's Trained Model"
   ]
  },
  {
   "cell_type": "code",
   "execution_count": 12,
   "id": "a9cfcb15-073f-4978-98dd-3a92bb6e5d44",
   "metadata": {},
   "outputs": [
    {
     "data": {
      "text/plain": [
       "ProjectionAttention(\n",
       "  (masking_layer): Identity()\n",
       "  (attention_module): Linear(in_features=5000, out_features=5000, bias=True)\n",
       "  (projection_block1): Projection(\n",
       "    (projection): Linear(in_features=5000, out_features=5000, bias=True)\n",
       "    (output_dropout): Dropout(p=0.0, inplace=False)\n",
       "    (normalization): LayerNorm((5000,), eps=1e-05, elementwise_affine=True)\n",
       "  )\n",
       "  (projection_block2): Projection(\n",
       "    (projection): Linear(in_features=5000, out_features=5000, bias=True)\n",
       "    (output_dropout): Dropout(p=0.0, inplace=False)\n",
       "    (normalization): LayerNorm((5000,), eps=1e-05, elementwise_affine=True)\n",
       "  )\n",
       "  (pwff): PointWiseFeedForward(\n",
       "    (first_layer): Sequential(\n",
       "      (0): Linear(in_features=5000, out_features=128, bias=True)\n",
       "      (1): ReLU()\n",
       "    )\n",
       "    (second_layer): Linear(in_features=128, out_features=5000, bias=True)\n",
       "    (normalization): LayerNorm((5000,), eps=1e-05, elementwise_affine=True)\n",
       "  )\n",
       "  (task_module): Sequential(\n",
       "    (0): Linear(in_features=5000, out_features=14, bias=True)\n",
       "    (1): LeakyReLU(negative_slope=0.01)\n",
       "  )\n",
       ")"
      ]
     },
     "execution_count": 12,
     "metadata": {},
     "output_type": "execute_result"
    }
   ],
   "source": [
    "model_dict = torch.load(f\"{abs_path}/data/scANNA_Trained_Models/\"\n",
    "                    \"scANNA-Pojections+Attention-GSE144236-2Block-4Branches.pth\",\n",
    "                              map_location=torch.device('cpu'))\n",
    "\n",
    "trained_scanna_model = model_dict[\"Saved_Model\"]\n",
    "trained_scanna_model.eval()"
   ]
  },
  {
   "cell_type": "code",
   "execution_count": 13,
   "id": "9db9dccf-4e21-47cf-998a-1b9ef42ba49d",
   "metadata": {},
   "outputs": [
    {
     "name": "stdout",
     "output_type": "stream",
     "text": [
      "Using GPU (CUDA)\n"
     ]
    }
   ],
   "source": [
    "device = torch.device(\"cuda\" if torch.cuda.is_available() else \"cpu\")\n",
    "if str(device) == \"cuda\":\n",
    "    print('Using GPU (CUDA)')\n",
    "else:\n",
    "    print('Using CPU')\n",
    "    \n",
    "trained_scanna_model.device = device"
   ]
  },
  {
   "cell_type": "code",
   "execution_count": 14,
   "id": "ecf939ff-1c42-40b0-b3be-b09c92c73499",
   "metadata": {},
   "outputs": [
    {
     "data": {
      "text/plain": [
       "ProjectionAttention(\n",
       "  (masking_layer): Identity()\n",
       "  (attention_module): Linear(in_features=5000, out_features=5000, bias=True)\n",
       "  (projection_block1): Projection(\n",
       "    (projection): Linear(in_features=5000, out_features=5000, bias=True)\n",
       "    (output_dropout): Dropout(p=0.0, inplace=False)\n",
       "    (normalization): LayerNorm((5000,), eps=1e-05, elementwise_affine=True)\n",
       "  )\n",
       "  (projection_block2): Projection(\n",
       "    (projection): Linear(in_features=5000, out_features=5000, bias=True)\n",
       "    (output_dropout): Dropout(p=0.0, inplace=False)\n",
       "    (normalization): LayerNorm((5000,), eps=1e-05, elementwise_affine=True)\n",
       "  )\n",
       "  (pwff): PointWiseFeedForward(\n",
       "    (first_layer): Sequential(\n",
       "      (0): Linear(in_features=5000, out_features=128, bias=True)\n",
       "      (1): ReLU()\n",
       "    )\n",
       "    (second_layer): Linear(in_features=128, out_features=5000, bias=True)\n",
       "    (normalization): LayerNorm((5000,), eps=1e-05, elementwise_affine=True)\n",
       "  )\n",
       "  (task_module): Sequential(\n",
       "    (0): Linear(in_features=5000, out_features=14, bias=True)\n",
       "    (1): LeakyReLU(negative_slope=0.01)\n",
       "  )\n",
       ")"
      ]
     },
     "execution_count": 14,
     "metadata": {},
     "output_type": "execute_result"
    }
   ],
   "source": [
    "trained_scanna_model"
   ]
  },
  {
   "cell_type": "markdown",
   "id": "f2060370-3940-4b6d-bdd0-9abaadf7dcab",
   "metadata": {
    "tags": []
   },
   "source": [
    "### Retrieving Top Attentive Genes Using scanna's Interpretability Module"
   ]
  },
  {
   "cell_type": "code",
   "execution_count": 15,
   "id": "82ce32cc-d5a0-4c1d-949c-9447b4fc378d",
   "metadata": {},
   "outputs": [
    {
     "name": "stdout",
     "output_type": "stream",
     "text": [
      "----------------------------------\n",
      " scANNA Results for 25 top genes:\n",
      "For Nearest Centroid classifier:\n",
      "F1 (weighted) Score: 0.8401101311239221\n",
      "Training and classification time took: 0.013730049133300781\n",
      "\n",
      "For KNN classifier:\n",
      "F1 (weighted) Score: 0.8996995151000255\n",
      "Training and classification time took: 0.18050384521484375\n",
      "\n",
      "For XGBoost classifier:\n",
      "F1 (weighted) Score: 0.897524705566405\n",
      "Training and classification time took: 1.6560287475585938\n",
      "\n",
      "Percentage of Total Variance Explained: 1.9873986020684242%\n",
      "----------------------------------\n",
      "----------------------------------\n",
      " scANNA Results for 50 top genes:\n",
      "For Nearest Centroid classifier:\n",
      "F1 (weighted) Score: 0.9322296294005856\n",
      "Training and classification time took: 0.017623424530029297\n",
      "\n",
      "For KNN classifier:\n",
      "F1 (weighted) Score: 0.9545477516185394\n",
      "Training and classification time took: 0.19237279891967773\n",
      "\n",
      "For XGBoost classifier:\n",
      "F1 (weighted) Score: 0.9476052295856502\n",
      "Training and classification time took: 1.596130609512329\n",
      "\n",
      "Percentage of Total Variance Explained: 3.244759887456894%\n",
      "----------------------------------\n",
      "----------------------------------\n",
      " scANNA Results for 100 top genes:\n",
      "For Nearest Centroid classifier:\n",
      "F1 (weighted) Score: 0.9593359101998357\n",
      "Training and classification time took: 0.015738248825073242\n",
      "\n",
      "For KNN classifier:\n",
      "F1 (weighted) Score: 0.9781698271068839\n",
      "Training and classification time took: 0.21552205085754395\n",
      "\n",
      "For XGBoost classifier:\n",
      "F1 (weighted) Score: 0.9655773647713768\n",
      "Training and classification time took: 1.8636589050292969\n",
      "\n",
      "Percentage of Total Variance Explained: 6.571710854768753%\n",
      "----------------------------------\n",
      "----------------------------------\n",
      " scANNA Results for 200 top genes:\n",
      "For Nearest Centroid classifier:\n",
      "F1 (weighted) Score: 0.9632533599549646\n",
      "Training and classification time took: 0.023964405059814453\n",
      "\n",
      "For KNN classifier:\n",
      "F1 (weighted) Score: 0.9823828586610281\n",
      "Training and classification time took: 0.24910187721252441\n",
      "\n",
      "For XGBoost classifier:\n",
      "F1 (weighted) Score: 0.975653355167392\n",
      "Training and classification time took: 3.1864428520202637\n",
      "\n",
      "Percentage of Total Variance Explained: 13.084223866462708%\n",
      "----------------------------------\n",
      "----------------------------------\n",
      " scANNA Results for 300 top genes:\n",
      "For Nearest Centroid classifier:\n",
      "F1 (weighted) Score: 0.96509326016375\n",
      "Training and classification time took: 0.02925586700439453\n",
      "\n",
      "For KNN classifier:\n",
      "F1 (weighted) Score: 0.984057747283716\n",
      "Training and classification time took: 0.30709338188171387\n",
      "\n",
      "For XGBoost classifier:\n",
      "F1 (weighted) Score: 0.9779887766929714\n",
      "Training and classification time took: 4.373279809951782\n",
      "\n",
      "Percentage of Total Variance Explained: 18.422695994377136%\n",
      "----------------------------------\n"
     ]
    }
   ],
   "source": [
    "query_object = AttentionQuery(adata, split_test=False)\n",
    "scanna_nc_acc_dict = {}\n",
    "scanna_knn_acc_dict = {}\n",
    "scanna_xgb_acc_dict = {}\n",
    "scanna_variance_dict = {}\n",
    "\n",
    "for n_genes in top_n:\n",
    "    print(\"----------------------------------\")\n",
    "    print(f\" scANNA Results for {n_genes} top genes:\") \n",
    "    (X_train, X_test, labels_train, \n",
    "     labels_test, \n",
    "     _, \n",
    "     _ )= query_object.get_important_global_genes(model=trained_scanna_model, \n",
    "                                                 how_many_global_genes = n_genes,\n",
    "                                                 inplace=False,\n",
    "                                                 verbose=False, \n",
    "                                                 use_raw_x=False)\n",
    "\n",
    "    # Making sure we have integer classes\n",
    "    labels_train = labels_train.astype(int)\n",
    "    labels_test = labels_test.astype(int)\n",
    "\n",
    "    scanna_nc_acc_dict[n_genes]=measure_performance(X_train, \n",
    "                                        labels_train ,\n",
    "                                        X_test, \n",
    "                                        labels_test, \n",
    "                                        classifer=nearest_centroid_classifier,\n",
    "                                        classifier_name = \"Nearest Centroid\",\n",
    "                                        )\n",
    "\n",
    "    scanna_knn_acc_dict[n_genes]=measure_performance(X_train, \n",
    "                                                   labels_train ,\n",
    "                                                   X_test, \n",
    "                                                   labels_test, \n",
    "                                                   classifer=knn_classifier,\n",
    "                                                   classifier_name = \"KNN\",\n",
    "                                                   )\n",
    "\n",
    "    scanna_xgb_acc_dict[n_genes]=measure_performance(X_train, \n",
    "                                                   labels_train ,\n",
    "                                                   X_test, \n",
    "                                                   labels_test, \n",
    "                                                   classifer=xgboost_classifier,\n",
    "                                                   classifier_name = \"XGBoost\",\n",
    "                                                   )\n",
    "\n",
    "    var_frac_explained = explained_variance_ratio(\n",
    "            full_dimension_data=np.array(adata.X.todense()), \n",
    "            train_data = X_train, \n",
    "            test_data = X_test)\n",
    "    scanna_variance_dict[n_genes] = var_frac_explained\n",
    "    print(f\"Percentage of Total Variance Explained: {var_frac_explained*100}%\")\n",
    "\n",
    "    print(\"----------------------------------\")\n"
   ]
  },
  {
   "cell_type": "markdown",
   "id": "f9ae1476-f8be-4b42-9032-9ff684a5cd8b",
   "metadata": {},
   "source": [
    "## Top Feature Selection with SMaSH\n",
    "\n",
    "To compare against scANNA, we find the top global genes using SMaSH. Based on their paper, the ensemble learning method (XGBoost) shows the best performance, so we will use that model here.\n",
    "\n",
    "*Note*: We have made minor modifications to [the original SMaSH implementation](https://gitlab.com/cvejic-group/smash/-/tree/master/) in order to make it compatible for installation and for our use case. These modifications are:\n",
    "1. To make SMaSH compatible with Tensorflow 2.11 (since the package-requested `tf==2.5.0` is no longer available), all imports of the form `tensorflow.python.keras` have been changed to `tensorflow.keras`\n",
    "1. BatchNorm import has been changed from `from tensorflow.python.keras.layers.normalization import BatchNormalization` to `from tensorflow.keras.layers import BatchNormalization\n",
    "1. We have modified the `ensemble_learning` class method to intake a variable to determine whether train/test splits should be selected during training, or if the data already has these splits. In order for a fair comparison between all methods, we force this method to use the same train/test split that already exists in the data.\n",
    "1. Lastly, we modified `XGBoostClassifer` arguments in the `ensemble_learning` class method to have `n_jobs=-1` (for parallel processing) "
   ]
  },
  {
   "cell_type": "code",
   "execution_count": 16,
   "id": "a7036bec-b965-4945-af7b-e6b097644c60",
   "metadata": {},
   "outputs": [
    {
     "name": "stdout",
     "output_type": "stream",
     "text": [
      " * Initialising ...\n"
     ]
    },
    {
     "name": "stderr",
     "output_type": "stream",
     "text": [
      "2023-03-13 11:22:32.191641: I tensorflow/core/common_runtime/gpu/gpu_device.cc:1634] Created device /job:localhost/replica:0/task:0/device:GPU:0 with 61217 MB memory:  -> device: 0, name: NVIDIA A100 80GB PCIe, pci bus id: 0000:98:00.0, compute capability: 8.0\n"
     ]
    },
    {
     "name": "stdout",
     "output_type": "stream",
     "text": [
      "WARNING:tensorflow:From /home/aheydari/NACT_Project/NACT_MarkerGeneSelection/smash/smashpy/smashpy.py:72: The name tf.keras.backend.set_session is deprecated. Please use tf.compat.v1.keras.backend.set_session instead.\n",
      "\n"
     ]
    }
   ],
   "source": [
    "sf = smashpy.smashpy()\n",
    "\n",
    "adata = sc.read(path_to_data)\n",
    "adata.X = adata.X.todense()\n",
    "sf.data_preparation(adata)"
   ]
  },
  {
   "cell_type": "code",
   "execution_count": 17,
   "id": "0b978efa-53e4-45a6-9df9-4ffc6989faef",
   "metadata": {},
   "outputs": [
    {
     "name": "stdout",
     "output_type": "stream",
     "text": [
      "Using data's own train/test splits:\n",
      "Running with XGBoost (as of now, class_weight not implemented)\n",
      "It took 273.2541880607605 seconds!\n"
     ]
    }
   ],
   "source": [
    "adata.obs.cluster = adata.obs['cluster'].astype(\"category\")\n",
    "\n",
    "start = time.time()\n",
    "clf = sf.ensemble_learning(adata, group_by=\"cluster\", \n",
    "                           classifier=\"XGBoost\", \n",
    "                           balance=True, \n",
    "                           verbose=True, \n",
    "                           save=False,\n",
    "                           split_data=False)\n",
    "\n",
    "print(f\"It took {time.time()-start} seconds!\")"
   ]
  },
  {
   "cell_type": "code",
   "execution_count": 18,
   "id": "d20947f7-1d23-4043-a707-4672f6ac5b64",
   "metadata": {},
   "outputs": [
    {
     "name": "stdout",
     "output_type": "stream",
     "text": [
      "----------------------------------\n",
      "Results 25 random marker genes:\n",
      "For Nearest Centroid classifier:\n",
      "F1 (weighted) Score: 0.8585991774662982\n",
      "Training and classification time took: 0.028814077377319336\n",
      "\n",
      "For KNN classifier:\n",
      "F1 (weighted) Score: 0.9140389242313637\n",
      "Training and classification time took: 0.1966397762298584\n",
      "\n",
      "For XGBoost classifier:\n",
      "F1 (weighted) Score: 0.9278435880229273\n",
      "Training and classification time took: 1.4847033023834229\n",
      "\n",
      "Percentage of Total Variance Explained: 1.52343874797225%\n",
      "----------------------------------\n",
      "Results 50 random marker genes:\n",
      "For Nearest Centroid classifier:\n",
      "F1 (weighted) Score: 0.9116216271594803\n",
      "Training and classification time took: 0.019968271255493164\n",
      "\n",
      "For KNN classifier:\n",
      "F1 (weighted) Score: 0.9188093816016539\n",
      "Training and classification time took: 0.6393792629241943\n",
      "\n",
      "For XGBoost classifier:\n",
      "F1 (weighted) Score: 0.9336325603124548\n",
      "Training and classification time took: 1.6344575881958008\n",
      "\n",
      "Percentage of Total Variance Explained: 2.8509296476840973%\n",
      "----------------------------------\n",
      "Results 100 random marker genes:\n",
      "For Nearest Centroid classifier:\n",
      "F1 (weighted) Score: 0.9255212006163401\n",
      "Training and classification time took: 0.018776893615722656\n",
      "\n",
      "For KNN classifier:\n",
      "F1 (weighted) Score: 0.9311344431382916\n",
      "Training and classification time took: 0.29036521911621094\n",
      "\n",
      "For XGBoost classifier:\n",
      "F1 (weighted) Score: 0.9447313182829812\n",
      "Training and classification time took: 1.8174536228179932\n",
      "\n",
      "Percentage of Total Variance Explained: 5.192399397492409%\n",
      "----------------------------------\n",
      "Results 200 random marker genes:\n",
      "For Nearest Centroid classifier:\n",
      "F1 (weighted) Score: 0.9333211456903565\n",
      "Training and classification time took: 0.02410435676574707\n",
      "\n",
      "For KNN classifier:\n",
      "F1 (weighted) Score: 0.9410272435098858\n",
      "Training and classification time took: 0.29570770263671875\n",
      "\n",
      "For XGBoost classifier:\n",
      "F1 (weighted) Score: 0.9461010005904306\n",
      "Training and classification time took: 2.910571575164795\n",
      "\n",
      "Percentage of Total Variance Explained: 9.255313873291016%\n",
      "----------------------------------\n",
      "Results 300 random marker genes:\n",
      "For Nearest Centroid classifier:\n",
      "F1 (weighted) Score: 0.934478879566806\n",
      "Training and classification time took: 0.03708696365356445\n",
      "\n",
      "For KNN classifier:\n",
      "F1 (weighted) Score: 0.9459494378293652\n",
      "Training and classification time took: 0.3396487236022949\n",
      "\n",
      "For XGBoost classifier:\n",
      "F1 (weighted) Score: 0.9478214874108154\n",
      "Training and classification time took: 3.427914619445801\n",
      "\n",
      "Percentage of Total Variance Explained: 13.155382871627808%\n"
     ]
    }
   ],
   "source": [
    "adata_train = adata[adata.obs.split==\"train\"]\n",
    "adata_test = adata[adata.obs.split==\"test\"]\n",
    "\n",
    "start = time.time()\n",
    "\n",
    "smash_nc_acc_dict = {}\n",
    "smash_knn_acc_dict = {}\n",
    "smash_xgb_acc_dict = {}\n",
    "smash_variance_dict = {}\n",
    "\n",
    "\n",
    "for n_genes in top_n:\n",
    "    print(\"----------------------------------\")\n",
    "    print(f\"Results {n_genes} random marker genes:\") \n",
    "    \n",
    "    selected_genes, _ = sf.gini_importance(adata, clf, group_by=\"cluster\", \n",
    "                                           verbose=True, \n",
    "                                           restrict_top=(\"global\", n_genes))\n",
    "    \n",
    "    data_train_for_smash=np.array(adata_train[:,selected_genes].X)\n",
    "    labels_train_for_smash=adata_train[:,selected_genes].obs.cluster.to_numpy()\n",
    "\n",
    "    data_test_for_smash=np.array(adata_test[:,selected_genes].X)\n",
    "    labels_test_for_smash=adata_test[:,selected_genes].obs.cluster.to_numpy()\n",
    "    \n",
    "\n",
    "    \n",
    "    smash_nc_acc_dict[n_genes] = measure_performance(data_train_for_smash,\n",
    "                                        labels_train_for_smash,\n",
    "                                        data_test_for_smash, \n",
    "                                        labels_test_for_smash, \n",
    "                                        classifer=nearest_centroid_classifier,\n",
    "                                        classifier_name = \"Nearest Centroid\",\n",
    "                                        )\n",
    "\n",
    "    smash_knn_acc_dict[n_genes] = measure_performance(data_train_for_smash,\n",
    "                                                      labels_train_for_smash,\n",
    "                                                      data_test_for_smash, \n",
    "                                                      labels_test_for_smash,  \n",
    "                                                      classifer=knn_classifier,\n",
    "                                                      classifier_name = \"KNN\",\n",
    "                                                       )\n",
    "\n",
    "    smash_xgb_acc_dict[n_genes] = measure_performance(data_train_for_smash,\n",
    "                                                      labels_train_for_smash,\n",
    "                                                      data_test_for_smash, \n",
    "                                                      labels_test_for_smash,  \n",
    "                                                      classifer=xgboost_classifier,\n",
    "                                                      classifier_name = \"XGBoost\",\n",
    "                                                       )\n",
    "    var_frac_explained = explained_variance_ratio(\n",
    "            full_dimension_data=np.array(adata.layers[\"counts\"]), \n",
    "            train_data = adata[\n",
    "                adata.obs.split==\"train\"][:, selected_genes].layers[\"counts\"], \n",
    "            test_data = adata[\n",
    "                adata.obs.split==\"test\"][:, selected_genes].layers[\"counts\"])\n",
    "\n",
    "    smash_variance_dict[n_genes] = var_frac_explained\n",
    "    print(f\"Percentage of Total Variance Explained: {var_frac_explained*100}%\")\n"
   ]
  },
  {
   "cell_type": "markdown",
   "id": "e32d1d37-c3fd-4038-819d-88221cae69e6",
   "metadata": {
    "tags": []
   },
   "source": [
    "## Top Feature Selection with Seurat"
   ]
  },
  {
   "cell_type": "code",
   "execution_count": 19,
   "id": "7f8f0e3f-b23a-43d1-82f3-e4deb892d0fb",
   "metadata": {},
   "outputs": [
    {
     "data": {
      "text/plain": [
       "AnnData object with n_obs × n_vars = 47021 × 5000\n",
       "    obs: 'nFeature_RNA', 'nCount_RNA', 'barcodes', 'patient', 'tum.norm', 'celltypes', 'celltypes_lvl2', 'celltypes_lvl3', 'percent_mito', 'RNA_snn_res.0.2', 'RNA_snn_res.0.4', 'kmeans_14', 'encoded_celltypes', 'cluster', 'split'\n",
       "    var: 'n_cells', 'percent_mito', 'n_cells_by_counts', 'mean_counts', 'pct_dropout_by_counts', 'total_counts', 'vst.mean', 'vst.variance', 'vst.variance.expected', 'vst.variance.standardized', 'vst.variable'\n",
       "    uns: 'RNA_snn_res.0.2_colors', 'celltypes_colors', 'neighbors', 'patient_colors', 'tum.norm_colors'\n",
       "    obsm: 'X_harmony', 'X_pca', 'X_umap'\n",
       "    varm: 'HARMONY', 'PCs'\n",
       "    obsp: 'distances'"
      ]
     },
     "execution_count": 19,
     "metadata": {},
     "output_type": "execute_result"
    }
   ],
   "source": [
    "adata = sc.read(path_to_data)\n",
    "adata"
   ]
  },
  {
   "cell_type": "code",
   "execution_count": 20,
   "id": "fbc10b7f-e483-40f6-afd9-84b98f8dcfd9",
   "metadata": {},
   "outputs": [
    {
     "name": "stdout",
     "output_type": "stream",
     "text": [
      "----------------------------------\n",
      " Seurat Results for 25 top genes:\n",
      "For Nearest Centroid classifier:\n",
      "F1 (weighted) Score: 0.18084439883822692\n",
      "Training and classification time took: 0.05486702919006348\n",
      "\n",
      "For KNN classifier:\n",
      "F1 (weighted) Score: 0.49440278729380477\n",
      "Training and classification time took: 0.23591184616088867\n",
      "\n",
      "For XGBoost classifier:\n",
      "F1 (weighted) Score: 0.48419330041249814\n",
      "Training and classification time took: 0.654937744140625\n",
      "\n",
      "Percentage of Total Variance Explained: 0.10704656597226858%\n",
      "----------------------------------\n",
      "----------------------------------\n",
      " Seurat Results for 50 top genes:\n",
      "For Nearest Centroid classifier:\n",
      "F1 (weighted) Score: 0.31164298707683324\n",
      "Training and classification time took: 0.015472650527954102\n",
      "\n",
      "For KNN classifier:\n",
      "F1 (weighted) Score: 0.5539903054521242\n",
      "Training and classification time took: 0.20082712173461914\n",
      "\n",
      "For XGBoost classifier:\n",
      "F1 (weighted) Score: 0.552067526109828\n",
      "Training and classification time took: 0.6864979267120361\n",
      "\n",
      "Percentage of Total Variance Explained: 0.23877196945250034%\n",
      "----------------------------------\n",
      "----------------------------------\n",
      " Seurat Results for 100 top genes:\n",
      "For Nearest Centroid classifier:\n",
      "F1 (weighted) Score: 0.47614378641157196\n",
      "Training and classification time took: 0.025888681411743164\n",
      "\n",
      "For KNN classifier:\n",
      "F1 (weighted) Score: 0.6515252977190348\n",
      "Training and classification time took: 0.24938488006591797\n",
      "\n",
      "For XGBoost classifier:\n",
      "F1 (weighted) Score: 0.623310899943102\n",
      "Training and classification time took: 0.9728624820709229\n",
      "\n",
      "Percentage of Total Variance Explained: 0.662399735301733%\n",
      "----------------------------------\n",
      "----------------------------------\n",
      " Seurat Results for 200 top genes:\n",
      "For Nearest Centroid classifier:\n",
      "F1 (weighted) Score: 0.7219031295359877\n",
      "Training and classification time took: 0.02412271499633789\n",
      "\n",
      "For KNN classifier:\n",
      "F1 (weighted) Score: 0.7776120892173016\n",
      "Training and classification time took: 0.28380274772644043\n",
      "\n",
      "For XGBoost classifier:\n",
      "F1 (weighted) Score: 0.735480184395516\n",
      "Training and classification time took: 1.5190346240997314\n",
      "\n",
      "Percentage of Total Variance Explained: 2.008254826068878%\n",
      "----------------------------------\n",
      "----------------------------------\n",
      " Seurat Results for 300 top genes:\n",
      "For Nearest Centroid classifier:\n",
      "F1 (weighted) Score: 0.7571756851239427\n",
      "Training and classification time took: 0.030797958374023438\n",
      "\n",
      "For KNN classifier:\n",
      "F1 (weighted) Score: 0.8642191586231379\n",
      "Training and classification time took: 0.3616640567779541\n",
      "\n",
      "For XGBoost classifier:\n",
      "F1 (weighted) Score: 0.823241871852382\n",
      "Training and classification time took: 2.1819746494293213\n",
      "\n",
      "Percentage of Total Variance Explained: 3.5902731120586395%\n",
      "----------------------------------\n"
     ]
    }
   ],
   "source": [
    "start = time.time()\n",
    "\n",
    "seurat_nc_acc_dict = {}\n",
    "seurat_knn_acc_dict = {}\n",
    "seurat_xgb_acc_dict = {}\n",
    "seurat_variance_dict = {}\n",
    "\n",
    "\n",
    "for n_genes in top_n:\n",
    "    print(\"----------------------------------\")\n",
    "    print(f\" Seurat Results for {n_genes} top genes:\") \n",
    "    sc.pp.highly_variable_genes(adata, \n",
    "                                n_top_genes=n_genes, \n",
    "                                flavor='seurat', \n",
    "                                inplace=True)\n",
    "    \n",
    "    hvg_adata = adata[:, adata.var.highly_variable]\n",
    "    adata_train = hvg_adata[hvg_adata.obs.split==\"train\"]\n",
    "    adata_test = hvg_adata[hvg_adata.obs.split==\"test\"]\n",
    "    \n",
    "    data_train_for_seurat = np.array(adata_train.X.todense())\n",
    "    labels_train_for_seurat  = adata_train.obs.cluster.to_numpy()\n",
    "\n",
    "    data_test_for_seurat = np.array(adata_test.X.todense())\n",
    "    labels_test_for_seurat  = adata_test.obs.cluster.to_numpy()\n",
    "\n",
    "    seurat_nc_acc_dict[n_genes] = measure_performance(data_train_for_seurat, \n",
    "                                        labels_train_for_seurat ,\n",
    "                                        data_test_for_seurat, \n",
    "                                        labels_test_for_seurat, \n",
    "                                        classifer=nearest_centroid_classifier,\n",
    "                                        classifier_name = \"Nearest Centroid\",\n",
    "                                        )\n",
    "\n",
    "    seurat_knn_acc_dict[n_genes] = measure_performance(data_train_for_seurat, \n",
    "                                                       labels_train_for_seurat ,\n",
    "                                                       data_test_for_seurat, \n",
    "                                                       labels_test_for_seurat, \n",
    "                                                       classifer=knn_classifier,\n",
    "                                                       classifier_name = \"KNN\",\n",
    "                                                       )\n",
    "\n",
    "    seurat_xgb_acc_dict[n_genes] = measure_performance(data_train_for_seurat, \n",
    "                                                   labels_train_for_seurat ,\n",
    "                                                   data_test_for_seurat, \n",
    "                                                   labels_test_for_seurat, \n",
    "                                                   classifer=xgboost_classifier,\n",
    "                                                   classifier_name = \"XGBoost\",\n",
    "                                                   )\n",
    "    var_frac_explained = explained_variance_ratio(\n",
    "            full_dimension_data=np.array(adata.X.todense()), \n",
    "            train_data = data_train_for_seurat, \n",
    "            test_data = data_test_for_seurat)\n",
    "    seurat_variance_dict[n_genes] = var_frac_explained\n",
    "    print(f\"Percentage of Total Variance Explained: {var_frac_explained*100}%\")\n",
    "\n",
    "    print(\"----------------------------------\")"
   ]
  },
  {
   "cell_type": "markdown",
   "id": "14b5fa7a-e392-4dce-bfb4-6b596f6f761f",
   "metadata": {},
   "source": [
    "# As a Baseline: Computing Accuracy with Randomly Selected Features"
   ]
  },
  {
   "cell_type": "code",
   "execution_count": 21,
   "id": "c264ba60-0c5d-442f-839c-d6fb749b4594",
   "metadata": {},
   "outputs": [
    {
     "name": "stdout",
     "output_type": "stream",
     "text": [
      "----------------------------------\n",
      "Results 25 random marker genes:\n",
      "For Nearest Centroid classifier:\n",
      "F1 (weighted) Score: 0.49202481182108965\n",
      "Training and classification time took: 0.015225648880004883\n",
      "\n",
      "For KNN classifier:\n",
      "F1 (weighted) Score: 0.6628266388852796\n",
      "Training and classification time took: 0.3000805377960205\n",
      "\n",
      "For XGBoost classifier:\n",
      "F1 (weighted) Score: 0.6802228374733045\n",
      "Training and classification time took: 1.2202529907226562\n",
      "\n",
      "Percentage of Total Variance Explained: 0.33595417626202106%\n",
      "----------------------------------\n",
      "Results 50 random marker genes:\n",
      "For Nearest Centroid classifier:\n",
      "F1 (weighted) Score: 0.6972323948423017\n",
      "Training and classification time took: 0.018236160278320312\n",
      "\n",
      "For KNN classifier:\n",
      "F1 (weighted) Score: 0.7648044027684604\n",
      "Training and classification time took: 0.32291722297668457\n",
      "\n",
      "For XGBoost classifier:\n",
      "F1 (weighted) Score: 0.7687246453327315\n",
      "Training and classification time took: 1.504775047302246\n",
      "\n",
      "Percentage of Total Variance Explained: 0.9344060905277729%\n",
      "----------------------------------\n",
      "Results 100 random marker genes:\n",
      "For Nearest Centroid classifier:\n",
      "F1 (weighted) Score: 0.822889890763601\n",
      "Training and classification time took: 0.02122950553894043\n",
      "\n",
      "For KNN classifier:\n",
      "F1 (weighted) Score: 0.8585249098106211\n",
      "Training and classification time took: 0.3039417266845703\n",
      "\n",
      "For XGBoost classifier:\n",
      "F1 (weighted) Score: 0.8550993853640607\n",
      "Training and classification time took: 1.9590797424316406\n",
      "\n",
      "Percentage of Total Variance Explained: 2.1404070779681206%\n",
      "----------------------------------\n",
      "Results 200 random marker genes:\n",
      "For Nearest Centroid classifier:\n",
      "F1 (weighted) Score: 0.8259865238428524\n",
      "Training and classification time took: 0.032871246337890625\n",
      "\n",
      "For KNN classifier:\n",
      "F1 (weighted) Score: 0.8495112235568489\n",
      "Training and classification time took: 0.32220458984375\n",
      "\n",
      "For XGBoost classifier:\n",
      "F1 (weighted) Score: 0.8470954705422836\n",
      "Training and classification time took: 2.5280263423919678\n",
      "\n",
      "Percentage of Total Variance Explained: 3.828311711549759%\n",
      "----------------------------------\n",
      "Results 300 random marker genes:\n",
      "For Nearest Centroid classifier:\n",
      "F1 (weighted) Score: 0.8682995395708434\n",
      "Training and classification time took: 0.06322002410888672\n",
      "\n",
      "For KNN classifier:\n",
      "F1 (weighted) Score: 0.8991785109451399\n",
      "Training and classification time took: 1.6713652610778809\n",
      "\n",
      "For XGBoost classifier:\n",
      "F1 (weighted) Score: 0.8832459439940051\n",
      "Training and classification time took: 5.264459848403931\n",
      "\n",
      "Percentage of Total Variance Explained: 5.37603385746479%\n"
     ]
    }
   ],
   "source": [
    "adata = sc.read(path_to_data)\n",
    "np.random.seed(0)\n",
    "# separating train and test split\n",
    "adata_train = adata[adata.obs.split==\"train\"]\n",
    "adata_test = adata[adata.obs.split==\"test\"]\n",
    "\n",
    "# getting numerical data for training and testing from the split ann data\n",
    "data_train_for_rand = np.array(adata_train.X.todense())\n",
    "labels_train_for_rand  = adata_train.obs.cluster.to_numpy()\n",
    "\n",
    "data_test_for_rand  = np.array(adata_test.X.todense())\n",
    "labels_test_for_rand   = adata_test.obs.cluster.to_numpy()\n",
    "\n",
    "start = time.time()\n",
    "\n",
    "rand_nc_acc_dict = {}\n",
    "rand_knn_acc_dict = {}\n",
    "rand_xgb_acc_dict = {}\n",
    "rand_variance_dict = {}\n",
    "\n",
    "\n",
    "for n_genes in top_n:\n",
    "    print(\"----------------------------------\")\n",
    "    print(f\"Results {n_genes} random marker genes:\") \n",
    "    # Randomly selecting n markers.\n",
    "    random_markers= np.random.randint(low=0, \n",
    "                                      high=data_train_for_rand.shape[1], \n",
    "                                      size=n_genes)\n",
    "    \n",
    "    rand_nc_acc_dict[n_genes] = measure_performance(\n",
    "        data_train_for_rand[:,random_markers],\n",
    "        labels_train_for_rand ,\n",
    "        data_test_for_rand[:,random_markers], \n",
    "        labels_test_for_rand, \n",
    "        classifer=nearest_centroid_classifier,\n",
    "        classifier_name = \"Nearest Centroid\",\n",
    "        )\n",
    "\n",
    "    rand_knn_acc_dict[n_genes] = measure_performance(\n",
    "        data_train_for_rand[:,random_markers], \n",
    "        labels_train_for_rand ,\n",
    "        data_test_for_rand[:,random_markers], \n",
    "        labels_test_for_rand, \n",
    "        classifer=knn_classifier,\n",
    "        classifier_name = \"KNN\",\n",
    "       )\n",
    "\n",
    "    rand_xgb_acc_dict[n_genes] = measure_performance(\n",
    "        data_train_for_rand[:,random_markers], \n",
    "        labels_train_for_rand ,\n",
    "        data_test_for_rand[:,random_markers], \n",
    "        labels_test_for_rand, \n",
    "        classifer=xgboost_classifier,\n",
    "        classifier_name = \"XGBoost\",\n",
    "        )\n",
    "    var_frac_explained = explained_variance_ratio(\n",
    "            full_dimension_data=np.array(adata.X.todense()), \n",
    "            train_data = data_train_for_rand[:,random_markers], \n",
    "            test_data = data_test_for_rand[:,random_markers])\n",
    "    rand_variance_dict[n_genes] = var_frac_explained\n",
    "    print(f\"Percentage of Total Variance Explained: {var_frac_explained*100}%\")"
   ]
  },
  {
   "cell_type": "markdown",
   "id": "8063b385-721d-43b5-b5f6-9456b4193f0e",
   "metadata": {},
   "source": [
    "## Comparing All Feature Selction Methods "
   ]
  },
  {
   "cell_type": "markdown",
   "id": "f757a22f-8607-40b9-9585-e495d8d947c7",
   "metadata": {},
   "source": [
    "Here we aim to put our results into perspective by comparing with classification results on all 5K HVG, as well as comparing the variance explained by each method."
   ]
  },
  {
   "cell_type": "markdown",
   "id": "f8ce13ec-0b3a-4a12-8481-72b8d58ba4b1",
   "metadata": {},
   "source": [
    "### Classification"
   ]
  },
  {
   "cell_type": "code",
   "execution_count": 22,
   "id": "661bc5d6-27d0-4bae-9ece-d2a514856307",
   "metadata": {},
   "outputs": [
    {
     "data": {
      "image/png": "[encoded data removed]",
      "text/plain": [
       "<Figure size 1000x600 with 1 Axes>"
      ]
     },
     "metadata": {},
     "output_type": "display_data"
    }
   ],
   "source": [
    "# Set figure default figure size\n",
    "plt.rcParams[\"figure.figsize\"] = (10, 6)\n",
    "\n",
    "# Get some random points!\n",
    "plt.plot(top_n, list(rand_knn_acc_dict.values()), \n",
    "         linestyle=\"--\", \n",
    "         marker=\"o\", \n",
    "         label=\"Randomly Selected Genes\",\n",
    "         linewidth=3,\n",
    "         markersize=10,\n",
    "         color=\"peru\",\n",
    "         )\n",
    "\n",
    "plt.plot(top_n, list(seurat_knn_acc_dict.values()), \n",
    "         linestyle=\"--\", \n",
    "         marker=\"o\", \n",
    "         label=\"Seurat Selected Genes\",\n",
    "         linewidth=3,\n",
    "         markersize=10,\n",
    "         color = \"olive\",\n",
    "         )\n",
    "\n",
    "plt.plot(top_n, list(smash_knn_acc_dict.values()), \n",
    "         linestyle=\"--\", \n",
    "         marker=\"o\", \n",
    "         label=\"SMaSH Selected Genes\",\n",
    "         linewidth=3,\n",
    "         markersize=10,\n",
    "         color = \"teal\"\n",
    "        )\n",
    "\n",
    "plt.plot(top_n, list(scanna_knn_acc_dict.values()), \n",
    "         linestyle=\"--\", \n",
    "         marker=\"o\", \n",
    "         label=\"scANNA Selected Genes\",\n",
    "         linewidth=3,\n",
    "         markersize=10,\n",
    "         color = \"darkmagenta\",\n",
    "         )\n",
    "\n",
    "plt.plot(top_n, [knn_5k_accuracy]*len(top_n), \n",
    "         linestyle=\"-\",\n",
    "         label=\"Baseline Accuracy (On 5K HVGs)\",\n",
    "         linewidth=4,\n",
    "         alpha = 0.4,\n",
    "         color = \"darkgoldenrod\",\n",
    "         )\n",
    "\n",
    "plt.xlabel(\"Number of Top Genes\", fontsize=12)\n",
    "plt.ylabel(\"KNN F1 Score\", fontsize=12)\n",
    "plt.title(\"Comparison of Global Marker Selection (through KNN\"\n",
    "          \" Classification)\",\n",
    "          fontsize=16,\n",
    "         )\n",
    "plt.grid(True)\n",
    "plt.legend()\n",
    "plt.show()"
   ]
  },
  {
   "cell_type": "markdown",
   "id": "048fe713-ea1b-491b-9530-79524e229136",
   "metadata": {},
   "source": [
    "### Fraction of Variance Explained"
   ]
  },
  {
   "cell_type": "code",
   "execution_count": 24,
   "id": "28ed12bc-0126-48bd-ae91-fb3d9ae72d3b",
   "metadata": {},
   "outputs": [
    {
     "data": {
      "image/png": "[encoded data removed]",
      "text/plain": [
       "<Figure size 1000x600 with 1 Axes>"
      ]
     },
     "metadata": {},
     "output_type": "display_data"
    }
   ],
   "source": [
    "# Set figure default figure size\n",
    "plt.rcParams[\"figure.figsize\"] = (10, 6)\n",
    "\n",
    "# Get some random points!\n",
    "plt.plot(top_n, list(rand_variance_dict.values()), \n",
    "         linestyle=\"--\", \n",
    "         marker=\"o\", \n",
    "         label=\"Randomly Selected Genes\",\n",
    "         linewidth=3,\n",
    "         markersize=10,\n",
    "         color=\"peru\",\n",
    "         )\n",
    "\n",
    "plt.plot(top_n, list(seurat_variance_dict.values()), \n",
    "         linestyle=\"--\", \n",
    "         marker=\"o\", \n",
    "         label=\"Seurat Selected Genes\",\n",
    "         linewidth=3,\n",
    "         markersize=10,\n",
    "         color = \"olive\",\n",
    "         )\n",
    "\n",
    "plt.plot(top_n, list(smash_variance_dict.values()), \n",
    "         linestyle=\"--\", \n",
    "         marker=\"o\", \n",
    "         label=\"SMaSH Selected Genes\",\n",
    "         linewidth=3,\n",
    "         markersize=10,\n",
    "         color = \"teal\"\n",
    "        )\n",
    "\n",
    "plt.plot(top_n, list(scanna_variance_dict.values()), \n",
    "         linestyle=\"--\", \n",
    "         marker=\"o\", \n",
    "         label=\"scANNA Selected Genes\",\n",
    "         linewidth=3,\n",
    "         markersize=10,\n",
    "         color = \"darkmagenta\",\n",
    "         )\n",
    "\n",
    "\n",
    "plt.xlabel(\"Number of Top Genes\", fontsize=12)\n",
    "plt.ylabel(\"Fraction of Total Variance\", fontsize=12)\n",
    "plt.title(\"Comparison of Global Marker Selection (through Variance\"\n",
    "          \" Explained)\",\n",
    "          fontsize=16,\n",
    "         )\n",
    "plt.grid(True)\n",
    "plt.legend()\n",
    "plt.show()"
   ]
  },
  {
   "cell_type": "code",
   "execution_count": null,
   "id": "9ab44769-68d5-4a9d-867f-bced44738005",
   "metadata": {},
   "outputs": [],
   "source": []
  }
 ],
 "metadata": {
  "kernelspec": {
   "display_name": "NACT Kernel",
   "language": "python",
   "name": "nact"
  },
  "language_info": {
   "codemirror_mode": {
    "name": "ipython",
    "version": 3
   },
   "file_extension": ".py",
   "mimetype": "text/x-python",
   "name": "python",
   "nbconvert_exporter": "python",
   "pygments_lexer": "ipython3",
   "version": "3.10.8"
  }
 },
 "nbformat": 4,
 "nbformat_minor": 5
}
